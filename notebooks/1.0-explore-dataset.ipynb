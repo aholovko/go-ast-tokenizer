{
 "cells": [
  {
   "cell_type": "code",
   "execution_count": null,
   "id": "6ad1cf59-1f87-4eab-a61d-982b335ea97d",
   "metadata": {},
   "outputs": [],
   "source": [
    "import os\n",
    "\n",
    "import boto3\n",
    "import pandas as pd\n",
    "from datasets import load_dataset\n",
    "from smart_open import open"
   ]
  },
  {
   "cell_type": "code",
   "execution_count": null,
   "id": "7dbbd0fe-deaa-43b6-973a-67614d6c56a1",
   "metadata": {},
   "outputs": [],
   "source": [
    "def download_content(s3, blob_id, src_encoding):\n",
    "    s3_url = f\"s3://softwareheritage/content/{blob_id}\"\n",
    "    with open(s3_url, \"rb\", compression=\".gz\", transport_params={\"client\": s3}) as fin:\n",
    "        content = fin.read().decode(src_encoding)\n",
    "    return {\"content\": content}"
   ]
  },
  {
   "cell_type": "code",
   "execution_count": null,
   "id": "1718bba3-c7fd-483b-991b-ddc2a2421d47",
   "metadata": {},
   "outputs": [],
   "source": [
    "session = boto3.Session(\n",
    "    aws_access_key_id=os.environ[\"AWS_ACCESS_KEY_ID\"],\n",
    "    aws_secret_access_key=os.environ[\"AWS_SECRET_ACCESS_KEY\"],\n",
    "    aws_session_token=os.environ[\"AWS_SESSION_TOKEN\"],\n",
    ")\n",
    "s3 = session.client(\"s3\")\n",
    "\n",
    "ds = load_dataset(\"bigcode/the-stack-v2-dedup\", \"Go\", split=\"train\", streaming=True)\n",
    "\n",
    "num_entries = 1000\n",
    "results = []\n",
    "for i, row in enumerate(ds):\n",
    "    if i >= num_entries:\n",
    "        break\n",
    "    entry = download_content(s3, row[\"blob_id\"], row[\"src_encoding\"])\n",
    "    results.append(entry)\n",
    "\n",
    "# Convert results to DataFrame\n",
    "df = pd.DataFrame(results)"
   ]
  },
  {
   "cell_type": "code",
   "execution_count": null,
   "id": "093b83c9-c7a8-4aaf-9c60-9551eb8ce676",
   "metadata": {},
   "outputs": [],
   "source": [
    "# print(df[\"content\"][1])\n",
    "df"
   ]
  },
  {
   "cell_type": "code",
   "execution_count": null,
   "id": "058c5940-62b8-4c50-a4e0-0e5c5db9a3cb",
   "metadata": {},
   "outputs": [],
   "source": [
    "import json\n",
    "import os\n",
    "\n",
    "from transformers import AutoTokenizer\n",
    "\n",
    "from src.go_ast_tokenizer.dataset_builder import GoStyleChecker\n",
    "\n",
    "os.environ[\"TOKENIZERS_PARALLELISM\"] = \"false\"\n",
    "\n",
    "TOKENS_LENGTH_CUTOFF = 2000\n",
    "\n",
    "MODEL_ID = \"meta-llama/Llama-3.2-1B\"\n",
    "tokenizer = AutoTokenizer.from_pretrained(MODEL_ID)\n",
    "\n",
    "checker = GoStyleChecker()\n",
    "\n",
    "num_skipped = 0\n",
    "labels = []\n",
    "\n",
    "for _idx, snippet in enumerate(df[\"content\"]):\n",
    "    num_tokens = len(tokenizer.encode(snippet))\n",
    "    if num_tokens > TOKENS_LENGTH_CUTOFF:\n",
    "        num_skipped += 1\n",
    "        labels.append([])\n",
    "        continue\n",
    "\n",
    "    try:\n",
    "        warnings = checker.check_style(snippet)\n",
    "    except Exception:\n",
    "        warnings = []\n",
    "\n",
    "    labels.append(warnings)\n",
    "\n",
    "df[\"labels\"] = labels\n",
    "\n",
    "with open(\"output.jsonl\", \"w\", encoding=\"utf-8\") as outfile:\n",
    "    for record in df.to_dict(orient=\"records\"):\n",
    "        json.dump(record, outfile)\n",
    "        outfile.write(\"\\n\")\n",
    "\n",
    "print(f\"Number of skipped snippets: {num_skipped}\")"
   ]
  }
 ],
 "metadata": {
  "kernelspec": {
   "display_name": "go-ast-tokenizer",
   "language": "python",
   "name": "go-ast-tokenizer"
  },
  "language_info": {
   "codemirror_mode": {
    "name": "ipython",
    "version": 3
   },
   "file_extension": ".py",
   "mimetype": "text/x-python",
   "name": "python",
   "nbconvert_exporter": "python",
   "pygments_lexer": "ipython3",
   "version": "3.12.10"
  }
 },
 "nbformat": 4,
 "nbformat_minor": 5
}
