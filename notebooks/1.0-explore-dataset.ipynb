{
 "cells": [
  {
   "cell_type": "code",
   "execution_count": null,
   "id": "415fa5a0-9762-4751-8cec-a92ea229b432",
   "metadata": {},
   "outputs": [],
   "source": [
    "import pandas as pd"
   ]
  },
  {
   "cell_type": "code",
   "execution_count": null,
   "id": "b599340c-0753-4dd1-b326-ebf72f6b54c8",
   "metadata": {},
   "outputs": [],
   "source": [
    "df = pd.read_json(\"../data/dataset-go-critic-style.jsonl\", lines=True)\n",
    "\n",
    "labels = df.explode(\"labels\")[\"labels\"].value_counts()\n",
    "print(labels)"
   ]
  },
  {
   "cell_type": "code",
   "execution_count": null,
   "id": "7e1b8658-3bb0-4cc8-8fee-1e48202183ba",
   "metadata": {},
   "outputs": [],
   "source": [
    "from datasets import load_dataset\n",
    "\n",
    "ds = load_dataset(\"aholovko/go-critic-style\", split=\"train\")"
   ]
  },
  {
   "cell_type": "code",
   "execution_count": null,
   "id": "faa9c33a-9193-4a0c-834d-f95f0aeb8155",
   "metadata": {},
   "outputs": [],
   "source": [
    "class_label = ds.features[\"labels\"].feature\n",
    "\n",
    "for label in class_label.names:\n",
    "    print(f\"{class_label.str2int(label)}\\t{label}\")"
   ]
  }
 ],
 "metadata": {
  "kernelspec": {
   "display_name": "go-ast-tokenizer",
   "language": "python",
   "name": "go-ast-tokenizer"
  },
  "language_info": {
   "codemirror_mode": {
    "name": "ipython",
    "version": 3
   },
   "file_extension": ".py",
   "mimetype": "text/x-python",
   "name": "python",
   "nbconvert_exporter": "python",
   "pygments_lexer": "ipython3",
   "version": "3.12.10"
  }
 },
 "nbformat": 4,
 "nbformat_minor": 5
}
