{
 "cells": [
  {
   "cell_type": "code",
   "execution_count": null,
   "id": "415fa5a0-9762-4751-8cec-a92ea229b432",
   "metadata": {},
   "outputs": [],
   "source": [
    "import numpy as np\n",
    "import pandas as pd\n",
    "from datasets import load_dataset"
   ]
  },
  {
   "cell_type": "code",
   "execution_count": null,
   "id": "7e1b8658-3bb0-4cc8-8fee-1e48202183ba",
   "metadata": {},
   "outputs": [],
   "source": [
    "SPLIT = \"train\"\n",
    "\n",
    "ds = load_dataset(\"aholovko/go-critic-style\")\n",
    "print(ds)"
   ]
  },
  {
   "cell_type": "code",
   "execution_count": null,
   "id": "faa9c33a-9193-4a0c-834d-f95f0aeb8155",
   "metadata": {},
   "outputs": [],
   "source": [
    "class_label = ds.features[\"labels\"].feature\n",
    "label_names = class_label.names"
   ]
  },
  {
   "cell_type": "code",
   "execution_count": null,
   "id": "a91f9377-3652-4e1a-b5a3-f479ca43ce93",
   "metadata": {},
   "outputs": [],
   "source": [
    "labels_list = ds[\"labels\"]"
   ]
  },
  {
   "cell_type": "code",
   "execution_count": null,
   "id": "8642f9a2-5bb2-4855-a0d1-b349b1f974fb",
   "metadata": {},
   "outputs": [],
   "source": [
    "# Flatten and count labels\n",
    "all_labels = [lbl for sublist in labels_list for lbl in sublist]\n",
    "label_counts = pd.Series(all_labels).value_counts().sort_index()\n",
    "print(f\"\\n=== {SPLIT.upper()} SPLIT ===\")\n",
    "print(\"Label counts:\")\n",
    "for label_id, count in label_counts.items():\n",
    "    name = label_names[label_id]\n",
    "    print(f\"  {label_id} ({name}): {count}\")"
   ]
  },
  {
   "cell_type": "code",
   "execution_count": null,
   "id": "40c26d5c-ab52-4ab8-9d89-13e15b570bd3",
   "metadata": {},
   "outputs": [],
   "source": [
    "# Cardinality: number of labels per example\n",
    "cardinality = pd.Series([len(lst) for lst in labels_list])\n",
    "print(\"\\nLabel cardinality distribution (labels per example):\")\n",
    "print(cardinality.value_counts().sort_index().to_string())\n",
    "print(\"\\nCardinality stats:\")\n",
    "print(cardinality.describe().to_string())"
   ]
  },
  {
   "cell_type": "code",
   "execution_count": null,
   "id": "3ce2d214-45df-48dc-b406-39b4036a2971",
   "metadata": {},
   "outputs": [],
   "source": [
    "# Co-occurrence matrix\n",
    "num_labels = len(label_names)\n",
    "co_matrix = np.zeros((num_labels, num_labels), dtype=int)\n",
    "for lst in labels_list:\n",
    "    for i in lst:\n",
    "        for j in lst:\n",
    "            co_matrix[i, j] += 1\n",
    "\n",
    "co_df = pd.DataFrame(co_matrix, index=label_names, columns=label_names)\n",
    "print(\"\\nLabel co-occurrence matrix:\")\n",
    "print(co_df.to_string())\n",
    "print(\"\\n\" + \"#\" * 50)"
   ]
  }
 ],
 "metadata": {
  "kernelspec": {
   "display_name": "go-ast-tokenizer",
   "language": "python",
   "name": "go-ast-tokenizer"
  },
  "language_info": {
   "codemirror_mode": {
    "name": "ipython",
    "version": 3
   },
   "file_extension": ".py",
   "mimetype": "text/x-python",
   "name": "python",
   "nbconvert_exporter": "python",
   "pygments_lexer": "ipython3",
   "version": "3.12.10"
  }
 },
 "nbformat": 4,
 "nbformat_minor": 5
}
