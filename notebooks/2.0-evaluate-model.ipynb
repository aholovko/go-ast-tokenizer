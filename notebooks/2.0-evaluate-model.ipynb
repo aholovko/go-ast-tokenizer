{
 "cells": [
  {
   "cell_type": "code",
   "execution_count": null,
   "id": "44205886-f30a-471a-8f52-681a530199a3",
   "metadata": {},
   "outputs": [],
   "source": [
    "import torch\n",
    "from datasets import load_dataset\n",
    "from transformers import AutoTokenizer\n",
    "\n",
    "from src.go_ast_tokenizer.dataset_builder import LABEL_NAMES\n",
    "from src.go_ast_tokenizer.train import HParams, Llama3Classifier\n",
    "\n",
    "DEVICE = \"mps\"\n",
    "CHECKPOINT = \"path to checkpoint\"\n",
    "\n",
    "params = HParams()\n",
    "model = Llama3Classifier.load_from_checkpoint(CHECKPOINT, params=params)\n",
    "model.eval()\n",
    "model.to(DEVICE)\n",
    "\n",
    "tokenizer = AutoTokenizer.from_pretrained(params.model_id)\n",
    "tokenizer.pad_token_id = tokenizer.eos_token_id"
   ]
  },
  {
   "cell_type": "code",
   "execution_count": null,
   "id": "a3beba20-f051-4019-bfce-9864bc42a2b5",
   "metadata": {},
   "outputs": [],
   "source": [
    "data = load_dataset(\"aholovko/go-critic-style\", split=\"test\")\n",
    "class_label = data.features[\"labels\"].feature"
   ]
  },
  {
   "cell_type": "code",
   "execution_count": null,
   "id": "229f526f-6f8d-458e-8141-b0f8d9a98756",
   "metadata": {},
   "outputs": [],
   "source": [
    "idx = 10\n",
    "\n",
    "snippet = data[\"code\"][idx]\n",
    "labels = data[\"labels\"][idx]\n",
    "\n",
    "print(snippet)\n",
    "print(f\"labels: {[class_label.int2str(label) for label in labels]}\")"
   ]
  },
  {
   "cell_type": "code",
   "execution_count": null,
   "id": "d264b0c7-a03a-4393-aabc-919fa47de6df",
   "metadata": {},
   "outputs": [],
   "source": [
    "inputs = tokenizer(\n",
    "    snippet,\n",
    "    return_tensors=\"pt\",\n",
    "    padding=\"max_length\",\n",
    "    truncation=True,\n",
    "    max_length=params.max_length,\n",
    ")\n",
    "\n",
    "inputs = {k: v.to(DEVICE) for k, v in inputs.items()}\n",
    "\n",
    "with torch.no_grad():\n",
    "    logits = model(inputs[\"input_ids\"], inputs[\"attention_mask\"])\n",
    "\n",
    "probs = torch.sigmoid(logits)\n",
    "preds = (probs > 0.5).long()\n",
    "\n",
    "for label, prob, pred in zip(\n",
    "    LABEL_NAMES,\n",
    "    probs[0].cpu().tolist(),\n",
    "    preds[0].cpu().tolist(),\n",
    "    strict=False,\n",
    "):\n",
    "    print(f\"{label:<25}{prob:>8.4f}   {'✔' if pred else '✘'}\")"
   ]
  }
 ],
 "metadata": {
  "kernelspec": {
   "display_name": "go-ast-tokenizer",
   "language": "python",
   "name": "go-ast-tokenizer"
  },
  "language_info": {
   "codemirror_mode": {
    "name": "ipython",
    "version": 3
   },
   "file_extension": ".py",
   "mimetype": "text/x-python",
   "name": "python",
   "nbconvert_exporter": "python",
   "pygments_lexer": "ipython3",
   "version": "3.12.10"
  }
 },
 "nbformat": 4,
 "nbformat_minor": 5
}
